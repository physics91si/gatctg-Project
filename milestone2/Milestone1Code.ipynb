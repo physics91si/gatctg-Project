{
 "cells": [
  {
   "cell_type": "code",
   "execution_count": 90,
   "metadata": {
    "collapsed": true
   },
   "outputs": [],
   "source": [
    "%matplotlib inline\n",
    "import numpy as np\n",
    "import random as random\n",
    "import math as math\n",
    "import matplotlib.pyplot as plt"
   ]
  },
  {
   "cell_type": "code",
   "execution_count": 91,
   "metadata": {
    "collapsed": false
   },
   "outputs": [],
   "source": [
    "def findTimeStep(reactionPropensities):\n",
    "    a = 0.0\n",
    "    for reactionPropensity in reactionPropensities:\n",
    "        a += reactionPropensity\n",
    "    tau = (1/a)*math.log(1/random.uniform(0,1))\n",
    "    return tau"
   ]
  },
  {
   "cell_type": "code",
   "execution_count": 92,
   "metadata": {
    "collapsed": true
   },
   "outputs": [],
   "source": [
    "def findReaction(reactionPropensities):\n",
    "    a = 0.0\n",
    "    for reactionPropensity in reactionPropensities:\n",
    "        a += reactionPropensity\n",
    "    tempVar = a*random.uniform(0,1)\n",
    "    sumo = 0.0\n",
    "    i = -1\n",
    "    while sumo < tempVar:\n",
    "        i += 1\n",
    "        sumo += reactionPropensities[i]\n",
    "    return i+1 #i is the index of the reaction that occurs"
   ]
  },
  {
   "cell_type": "code",
   "execution_count": 93,
   "metadata": {
    "collapsed": false
   },
   "outputs": [
    {
     "name": "stdout",
     "output_type": "stream",
     "text": [
      "0.168790968979997\n",
      "3\n"
     ]
    }
   ],
   "source": [
    "print(findTimeStep([1, 3, 6, 2]))\n",
    "print(findReaction([1, 3, 6, 2]))"
   ]
  }
 ],
 "metadata": {
  "kernelspec": {
   "display_name": "Python 3",
   "language": "python",
   "name": "python3"
  },
  "language_info": {
   "codemirror_mode": {
    "name": "ipython",
    "version": 3
   },
   "file_extension": ".py",
   "mimetype": "text/x-python",
   "name": "python",
   "nbconvert_exporter": "python",
   "pygments_lexer": "ipython3",
   "version": "3.6.0"
  }
 },
 "nbformat": 4,
 "nbformat_minor": 2
}
